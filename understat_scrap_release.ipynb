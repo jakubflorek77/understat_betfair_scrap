{
 "cells": [
  {
   "cell_type": "code",
   "execution_count": 51,
   "id": "2f577f7a",
   "metadata": {},
   "outputs": [],
   "source": [
    "import pandas as pd\n",
    "import requests\n",
    "import json\n",
    "from bs4 import BeautifulSoup"
   ]
  },
  {
   "cell_type": "code",
   "execution_count": 57,
   "id": "615fb4c6",
   "metadata": {},
   "outputs": [],
   "source": [
    "main()"
   ]
  },
  {
   "cell_type": "code",
   "execution_count": 52,
   "id": "90168fee",
   "metadata": {},
   "outputs": [],
   "source": [
    "def get_page(league,year):\n",
    "    url = 'https://understat.com/league/' + league + '/' + year #EPL/2023'\n",
    "    res = requests.get(url)\n",
    "    soup = BeautifulSoup(res.content,'lxml')\n",
    "    scripts = soup.find_all('script')\n",
    "    strings = scripts[2].string\n",
    "    ind_start = strings.index(\"('\")+2\n",
    "    ind_end = strings.index(\"')\")\n",
    "    json_data = strings[ind_start:ind_end]\n",
    "    json_data = json_data.encode('utf8').decode('unicode_escape')\n",
    "    data = json.loads(json_data)\n",
    "    return data"
   ]
  },
  {
   "cell_type": "code",
   "execution_count": 53,
   "id": "fbd4d736",
   "metadata": {},
   "outputs": [],
   "source": [
    "def scrap(data):\n",
    "    xg = []\n",
    "    xga = []\n",
    "    npxg = []\n",
    "    npxga = []\n",
    "    pts = []\n",
    "    xpts = []\n",
    "    team_name = []\n",
    "    team_id = []\n",
    "    h_a = []\n",
    "\n",
    "    for key_global in data:\n",
    "        temp = data[key_global]    \n",
    "        data_temp_matches = temp['history']\n",
    "\n",
    "        for index in data_temp_matches:\n",
    "            for team_key in temp:\n",
    "                if team_key == 'id':\n",
    "                    team_id.append(temp[team_key])\n",
    "                if team_key == 'title':\n",
    "                    team_name.append(temp[team_key])\n",
    "\n",
    "        for index in range(len(data_temp_matches)):\n",
    "            for key in data_temp_matches[index]:\n",
    "                if key =='xG':\n",
    "                    xg.append(data_temp_matches[index][key])\n",
    "                if key =='xGA':\n",
    "                    xga.append(data_temp_matches[index][key])\n",
    "                if key =='npxG':\n",
    "                    npxg.append(data_temp_matches[index][key])\n",
    "                if key =='npxGA':\n",
    "                    npxga.append(data_temp_matches[index][key])        \n",
    "                if key =='pts':\n",
    "                    pts.append(data_temp_matches[index][key])\n",
    "                if key =='xpts':\n",
    "                    xpts.append(data_temp_matches[index][key])\n",
    "                if key =='h_a':\n",
    "                    h_a.append(data_temp_matches[index][key])\n",
    "    col_name = ['team_name','xg','xga','npxg','npxga','pts','xpts','h_a']\n",
    "    df = pd.DataFrame([team_name,xg,xga,npxg,npxga,pts,xpts,h_a],index=col_name)\n",
    "    df2 = df.T\n",
    "    return df2"
   ]
  },
  {
   "cell_type": "code",
   "execution_count": 54,
   "id": "abc32069",
   "metadata": {},
   "outputs": [],
   "source": [
    "def table_format(df2):\n",
    "    df2_h = df2.loc[df2['h_a'] == 'h']\n",
    "    df2_a = df2.loc[df2['h_a'] == 'a']\n",
    "    \n",
    "    df3 = df2.drop(['h_a'],axis =1 )\n",
    "    df3_h = df2_h.drop(['h_a'],axis =1 )\n",
    "    df3_a = df2_a.drop(['h_a'],axis =1 )\n",
    "    \n",
    "    df4 = df3.groupby('team_name').mean()\n",
    "    df4_h = df3_h.groupby('team_name').mean()\n",
    "    df4_a = df3_a.groupby('team_name').mean()\n",
    "    \n",
    "    played = df3[['team_name','xg']].groupby('team_name').count()\n",
    "    played = played.rename(columns={\"xg\":\"played\"})\n",
    "    played_h = df3_h[['team_name','xg']].groupby('team_name').count()\n",
    "    played_h = played_h.rename(columns={\"xg\":\"played\"})\n",
    "    played_a = df3_a[['team_name','xg']].groupby('team_name').count()\n",
    "    played_a = played_a.rename(columns={\"xg\":\"played\"})\n",
    "    \n",
    "    df6 = pd.merge(df4, played, on='team_name', how='outer')\n",
    "    df6_h = pd.merge(df4_h, played_h, on='team_name', how='outer')\n",
    "    df6_a = pd.merge(df4_a, played_a, on='team_name', how='outer')\n",
    "    df6_h = df6_h.rename(columns={\"xg\":\"h_xg\",\"xga\":\"h_xga\",\"npxg\":\"h_npxg\",\"npxga\":\"h_npxga\",\"pts\":\"h_pts\",\"xpts\":\"h_xpts\",\"played\":\"h_pld\"})\n",
    "    df6_a = df6_a.rename(columns={\"xg\":\"a_xg\",\"xga\":\"a_xga\",\"npxg\":\"a_npxg\",\"npxga\":\"a_npxga\",\"pts\":\"a_pts\",\"xpts\":\"a_xpts\",\"played\":\"a_pld\"})\n",
    "    \n",
    "    df7 = pd.merge(df6, df6_h, on='team_name', how='outer')\n",
    "    df7 = pd.merge(df7, df6_a, on='team_name', how='outer')\n",
    "    \n",
    "    for column in df7.columns[0:20]:\n",
    "        df7[column] = df7[column].apply(lambda x: round(x, 2))\n",
    "\n",
    "    return df7"
   ]
  },
  {
   "cell_type": "code",
   "execution_count": 55,
   "id": "d3469217",
   "metadata": {},
   "outputs": [],
   "source": [
    "def get_one_league(league,year):\n",
    "    data = get_page(league,year)\n",
    "    df2 = scrap(data)\n",
    "    df7 = table_format(df2)\n",
    "    return df7"
   ]
  },
  {
   "cell_type": "code",
   "execution_count": 56,
   "id": "9212ffe0",
   "metadata": {},
   "outputs": [],
   "source": [
    "def main():\n",
    "    df_all = get_one_league('EPL','2023')\n",
    "    df_all = df_all.assign(league = 'EPL')\n",
    "    all_leagues = ['La_liga','Bundesliga','Ligue_1','Serie_A']\n",
    "    for league in all_leagues:\n",
    "        temp = get_one_league(league,'2023')\n",
    "        temp = temp.assign(league = league)\n",
    "        df_all = pd.concat([df_all, temp])\n",
    "        \n",
    "    path =  r'C:xxx/understat_big5_2023.xlsx'\n",
    "    with pd.ExcelWriter(path) as writer:\n",
    "        df_all.to_excel(writer, sheet_name=\"AllData\")\n",
    "        df_all.to_excel(writer, sheet_name=\"ExtraSheet\")"
   ]
  },
  {
   "cell_type": "code",
   "execution_count": null,
   "id": "c607da3a",
   "metadata": {},
   "outputs": [],
   "source": []
  }
 ],
 "metadata": {
  "kernelspec": {
   "display_name": "Python 3 (ipykernel)",
   "language": "python",
   "name": "python3"
  },
  "language_info": {
   "codemirror_mode": {
    "name": "ipython",
    "version": 3
   },
   "file_extension": ".py",
   "mimetype": "text/x-python",
   "name": "python",
   "nbconvert_exporter": "python",
   "pygments_lexer": "ipython3",
   "version": "3.11.5"
  }
 },
 "nbformat": 4,
 "nbformat_minor": 5
}
